{
  "nbformat": 4,
  "nbformat_minor": 0,
  "metadata": {
    "colab": {
      "name": "04_reguläre_Ausdruck_Übung.ipynb",
      "provenance": []
    },
    "kernelspec": {
      "name": "python3",
      "display_name": "Python 3"
    },
    "language_info": {
      "name": "python"
    }
  },
  "cells": [
    {
      "cell_type": "code",
      "metadata": {
        "id": "o0vYD1EaM2L9"
      },
      "source": [
        "import re\n",
        "import pandas as pd"
      ],
      "execution_count": null,
      "outputs": []
    },
    {
      "cell_type": "code",
      "metadata": {
        "colab": {
          "base_uri": "https://localhost:8080/",
          "height": 237
        },
        "id": "jF-hZC4yM63N",
        "outputId": "a40533e4-113b-4826-994e-4c209a5e9783"
      },
      "source": [
        "daten = pd.read_csv(\"/content/drive/MyDrive/vbg/DatenAnonymisiert_ansi.CSV\",encoding='latin1',delimiter=';', index_col=1)\n",
        "daten.head(5)"
      ],
      "execution_count": null,
      "outputs": [
        {
          "output_type": "execute_result",
          "data": {
            "text/html": [
              "<div>\n",
              "<style scoped>\n",
              "    .dataframe tbody tr th:only-of-type {\n",
              "        vertical-align: middle;\n",
              "    }\n",
              "\n",
              "    .dataframe tbody tr th {\n",
              "        vertical-align: top;\n",
              "    }\n",
              "\n",
              "    .dataframe thead th {\n",
              "        text-align: right;\n",
              "    }\n",
              "</style>\n",
              "<table border=\"1\" class=\"dataframe\">\n",
              "  <thead>\n",
              "    <tr style=\"text-align: right;\">\n",
              "      <th></th>\n",
              "      <th>UNFALLHERGANG</th>\n",
              "      <th>UNFART_NAM</th>\n",
              "      <th>UNFART_BEZ</th>\n",
              "    </tr>\n",
              "    <tr>\n",
              "      <th>LNR</th>\n",
              "      <th></th>\n",
              "      <th></th>\n",
              "      <th></th>\n",
              "    </tr>\n",
              "  </thead>\n",
              "  <tbody>\n",
              "    <tr>\n",
              "      <th>1</th>\n",
              "      <td>Versicherter ist auf dem Fahrrad auf dem Nachh...</td>\n",
              "      <td>1</td>\n",
              "      <td>Leereintrag</td>\n",
              "    </tr>\n",
              "    <tr>\n",
              "      <th>2</th>\n",
              "      <td>Unfallort:\\nDer Pat. ist auf Glatteis ausgerut...</td>\n",
              "      <td>1</td>\n",
              "      <td>Leereintrag</td>\n",
              "    </tr>\n",
              "    <tr>\n",
              "      <th>3</th>\n",
              "      <td>Auf dem WEg zur Arbeit auf Glatteis ausgerutsc...</td>\n",
              "      <td>1</td>\n",
              "      <td>Leereintrag</td>\n",
              "    </tr>\n",
              "    <tr>\n",
              "      <th>4</th>\n",
              "      <td>Die Versicherte habe ein Garagentor auf dem Ko...</td>\n",
              "      <td>1</td>\n",
              "      <td>Leereintrag</td>\n",
              "    </tr>\n",
              "    <tr>\n",
              "      <th>5</th>\n",
              "      <td>Fußläufige Vorstellung in unserer ZNA. Die Ver...</td>\n",
              "      <td>1</td>\n",
              "      <td>Leereintrag</td>\n",
              "    </tr>\n",
              "  </tbody>\n",
              "</table>\n",
              "</div>"
            ],
            "text/plain": [
              "                                         UNFALLHERGANG  ...                        UNFART_BEZ\n",
              "LNR                                                     ...                                  \n",
              "1    Versicherter ist auf dem Fahrrad auf dem Nachh...  ...  Leereintrag                     \n",
              "2    Unfallort:\\nDer Pat. ist auf Glatteis ausgerut...  ...  Leereintrag                     \n",
              "3    Auf dem WEg zur Arbeit auf Glatteis ausgerutsc...  ...  Leereintrag                     \n",
              "4    Die Versicherte habe ein Garagentor auf dem Ko...  ...  Leereintrag                     \n",
              "5    Fußläufige Vorstellung in unserer ZNA. Die Ver...  ...  Leereintrag                     \n",
              "\n",
              "[5 rows x 3 columns]"
            ]
          },
          "metadata": {
            "tags": []
          },
          "execution_count": 2
        }
      ]
    },
    {
      "cell_type": "code",
      "metadata": {
        "colab": {
          "base_uri": "https://localhost:8080/"
        },
        "id": "3G3yxESaNIgJ",
        "outputId": "d7f98d18-0142-4255-ac62-c4b47b7a9e09"
      },
      "source": [
        "daten[\"UNFALLHERGANG\"].str.findall(r'(\\n)').count()"
      ],
      "execution_count": null,
      "outputs": [
        {
          "output_type": "execute_result",
          "data": {
            "text/plain": [
              "262837"
            ]
          },
          "metadata": {
            "tags": []
          },
          "execution_count": 11
        }
      ]
    },
    {
      "cell_type": "markdown",
      "metadata": {
        "id": "RS1cXcxWOAmC"
      },
      "source": [
        "* Ersetzen aller New Line Zeichen durch ein Leerzeichen mit der Funktion [replace](https://pandas.pydata.org/pandas-docs/stable/reference/api/pandas.Series.str.replace.html)"
      ]
    },
    {
      "cell_type": "code",
      "metadata": {
        "colab": {
          "base_uri": "https://localhost:8080/"
        },
        "id": "fOWGFjpnNlCm",
        "outputId": "018d6a25-2073-4fa6-ea45-011ad6fc4387"
      },
      "source": [
        "daten[\"UNFALLHERGANG\"].str.replace(r'(\\n)', r' ')"
      ],
      "execution_count": null,
      "outputs": [
        {
          "output_type": "execute_result",
          "data": {
            "text/plain": [
              "LNR\n",
              "1         Versicherter ist auf dem Fahrrad auf dem Nachh...\n",
              "2         Unfallort: Der Pat. ist auf Glatteis ausgeruts...\n",
              "3         Auf dem WEg zur Arbeit auf Glatteis ausgerutsc...\n",
              "4         Die Versicherte habe ein Garagentor auf dem Ko...\n",
              "5         Fußläufige Vorstellung in unserer ZNA. Die Ver...\n",
              "                                ...                        \n",
              "262833                                D-Bericht angefordert\n",
              "262834    Unfallort : Achenbach Krankenhaus / Innere Abt...\n",
              "262835                                            unbekannt\n",
              "262836    Der Versicherte wurde vom Pflegepersonal im Pa...\n",
              "262837    Der Patient ist im Zimmer gestürzt und mit dem...\n",
              "Name: UNFALLHERGANG, Length: 262837, dtype: object"
            ]
          },
          "metadata": {
            "tags": []
          },
          "execution_count": 7
        }
      ]
    },
    {
      "cell_type": "code",
      "metadata": {
        "colab": {
          "base_uri": "https://localhost:8080/"
        },
        "id": "INA-KF81Okf-",
        "outputId": "2d3c2c35-b629-4371-cd26-eca471ed5f76"
      },
      "source": [
        "daten[\"UNFALLHERGANG\"].str.count(r'(li\\.)').sum()"
      ],
      "execution_count": null,
      "outputs": [
        {
          "output_type": "execute_result",
          "data": {
            "text/plain": [
              "18886"
            ]
          },
          "metadata": {
            "tags": []
          },
          "execution_count": 10
        }
      ]
    },
    {
      "cell_type": "code",
      "metadata": {
        "colab": {
          "base_uri": "https://localhost:8080/"
        },
        "id": "JCZAksBBPNad",
        "outputId": "52ba3533-7c07-451a-ff70-3974a8ce8448"
      },
      "source": [
        "daten[\"UNFALLHERGANG\"].str.count(r'(UV\\.)').sum()"
      ],
      "execution_count": null,
      "outputs": [
        {
          "output_type": "execute_result",
          "data": {
            "text/plain": [
              "658"
            ]
          },
          "metadata": {
            "tags": []
          },
          "execution_count": 13
        }
      ]
    },
    {
      "cell_type": "code",
      "metadata": {
        "colab": {
          "base_uri": "https://localhost:8080/"
        },
        "id": "d-n-xv1jPXlB",
        "outputId": "d8948b06-da39-4cb3-c6b5-ba818d39a6f9"
      },
      "source": [
        "daten[\"UNFALLHERGANG\"].str.count(r'(UV)').sum()"
      ],
      "execution_count": null,
      "outputs": [
        {
          "output_type": "execute_result",
          "data": {
            "text/plain": [
              "73124"
            ]
          },
          "metadata": {
            "tags": []
          },
          "execution_count": 14
        }
      ]
    },
    {
      "cell_type": "code",
      "metadata": {
        "colab": {
          "base_uri": "https://localhost:8080/"
        },
        "id": "BYHAYROEP6Gu",
        "outputId": "59616825-937a-4fa8-d284-1918dfa26a70"
      },
      "source": [
        "daten[\"UNFALLHERGANG\"].str.count(r'(Sz )').sum()"
      ],
      "execution_count": null,
      "outputs": [
        {
          "output_type": "execute_result",
          "data": {
            "text/plain": [
              "82"
            ]
          },
          "metadata": {
            "tags": []
          },
          "execution_count": 16
        }
      ]
    }
  ]
}