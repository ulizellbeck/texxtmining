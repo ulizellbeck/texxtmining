{
  "nbformat": 4,
  "nbformat_minor": 0,
  "metadata": {
    "colab": {
      "name": "03_pandas_csv_lösung.ipynb",
      "provenance": [],
      "collapsed_sections": []
    },
    "kernelspec": {
      "name": "python3",
      "display_name": "Python 3"
    },
    "language_info": {
      "name": "python"
    }
  },
  "cells": [
    {
      "cell_type": "markdown",
      "metadata": {
        "id": "rXF-2xR91w6h"
      },
      "source": [
        "* Einladen der Pandas Bibliothek mit [import](https://wiki.pythonde.pysv.org/Import)\n",
        "* Lesen des csv Files (\"/content/drive/MyDrive/vbg/DatenAnonymisiert_ansi_part.csv\") mit der Funktion [read_csv](https://pandas.pydata.org/docs/reference/api/pandas.read_csv.html) in die Variable \"daten\"\n",
        "* Hinweis: Richtiges Encoding verwenden, Daten sind mit \";\" separiert\n",
        "* Verändern des Indexes auf die Spalte LNR\n",
        "* Anzeigen der ersten und letzten 5 Zeilen mit [head](https://pandas.pydata.org/docs/reference/api/pandas.DataFrame.head.html) und [tail](https://pandas.pydata.org/docs/reference/api/pandas.DataFrame.tail.html)\n",
        "* Anzeigen der Ausprägungen der einzelnen Spalten mit [info](https://pandas.pydata.org/docs/reference/api/pandas.DataFrame.info.html)\n",
        "* Gibt es Unfälle bei denen mindestens ein Wert nicht gefüllt ist? Verwenden Sie dazu die Funktion [isnull](https://pandas.pydata.org/docs/reference/api/pandas.DataFrame.isnull.html) in Verbindung mit [sum](https://pandas.pydata.org/docs/reference/api/pandas.DataFrame.sum.html)\n",
        "* Wie ist die Verteilung der Spalte \"UNFART_BEZ\"? [Link](https://pandas.pydata.org/pandas-docs/stable/getting_started/intro_tutorials/03_subset_data.html).\n",
        "* Lassen Sie sich die Zeile mit der LNR=20000 anzeigen. [Link](https://pandas.pydata.org/pandas-docs/stable/getting_started/intro_tutorials/03_subset_data.html#how-do-i-filter-specific-rows-from-a-dataframe)\n",
        "* Lassen Sie sich alle Zeilen mit der \"UNFART_BEZ\"=Leereintrag anzeigen\n"
      ]
    },
    {
      "cell_type": "code",
      "metadata": {
        "id": "VW7Gob33v3OL"
      },
      "source": [
        "# einlesen der Pandas Bibliothek\n",
        "import pandas as pd"
      ],
      "execution_count": null,
      "outputs": []
    },
    {
      "cell_type": "code",
      "metadata": {
        "id": "k_ekYuQO1rwy",
        "colab": {
          "base_uri": "https://localhost:8080/",
          "height": 238
        },
        "outputId": "edc03f63-8553-4384-c95f-c79a4a9eda9c"
      },
      "source": [
        "# Einlesen der CSV Datei\n",
        "daten = pd.read_csv(\"/content/drive/MyDrive/vbg/DatenAnonymisiert_ansi.CSV\",encoding='latin1',delimiter=';', index_col=1)\n",
        "daten.head(5)"
      ],
      "execution_count": null,
      "outputs": [
        {
          "output_type": "execute_result",
          "data": {
            "text/html": [
              "<div>\n",
              "<style scoped>\n",
              "    .dataframe tbody tr th:only-of-type {\n",
              "        vertical-align: middle;\n",
              "    }\n",
              "\n",
              "    .dataframe tbody tr th {\n",
              "        vertical-align: top;\n",
              "    }\n",
              "\n",
              "    .dataframe thead th {\n",
              "        text-align: right;\n",
              "    }\n",
              "</style>\n",
              "<table border=\"1\" class=\"dataframe\">\n",
              "  <thead>\n",
              "    <tr style=\"text-align: right;\">\n",
              "      <th></th>\n",
              "      <th>UNFALLHERGANG</th>\n",
              "      <th>UNFART_NAM</th>\n",
              "      <th>UNFART_BEZ</th>\n",
              "    </tr>\n",
              "    <tr>\n",
              "      <th>LNR</th>\n",
              "      <th></th>\n",
              "      <th></th>\n",
              "      <th></th>\n",
              "    </tr>\n",
              "  </thead>\n",
              "  <tbody>\n",
              "    <tr>\n",
              "      <th>1</th>\n",
              "      <td>Versicherter ist auf dem Fahrrad auf dem Nachh...</td>\n",
              "      <td>1</td>\n",
              "      <td>Leereintrag</td>\n",
              "    </tr>\n",
              "    <tr>\n",
              "      <th>2</th>\n",
              "      <td>Unfallort:\\nDer Pat. ist auf Glatteis ausgerut...</td>\n",
              "      <td>1</td>\n",
              "      <td>Leereintrag</td>\n",
              "    </tr>\n",
              "    <tr>\n",
              "      <th>3</th>\n",
              "      <td>Auf dem WEg zur Arbeit auf Glatteis ausgerutsc...</td>\n",
              "      <td>1</td>\n",
              "      <td>Leereintrag</td>\n",
              "    </tr>\n",
              "    <tr>\n",
              "      <th>4</th>\n",
              "      <td>Die Versicherte habe ein Garagentor auf dem Ko...</td>\n",
              "      <td>1</td>\n",
              "      <td>Leereintrag</td>\n",
              "    </tr>\n",
              "    <tr>\n",
              "      <th>5</th>\n",
              "      <td>Fußläufige Vorstellung in unserer ZNA. Die Ver...</td>\n",
              "      <td>1</td>\n",
              "      <td>Leereintrag</td>\n",
              "    </tr>\n",
              "  </tbody>\n",
              "</table>\n",
              "</div>"
            ],
            "text/plain": [
              "                                         UNFALLHERGANG  ...                        UNFART_BEZ\n",
              "LNR                                                     ...                                  \n",
              "1    Versicherter ist auf dem Fahrrad auf dem Nachh...  ...  Leereintrag                     \n",
              "2    Unfallort:\\nDer Pat. ist auf Glatteis ausgerut...  ...  Leereintrag                     \n",
              "3    Auf dem WEg zur Arbeit auf Glatteis ausgerutsc...  ...  Leereintrag                     \n",
              "4    Die Versicherte habe ein Garagentor auf dem Ko...  ...  Leereintrag                     \n",
              "5    Fußläufige Vorstellung in unserer ZNA. Die Ver...  ...  Leereintrag                     \n",
              "\n",
              "[5 rows x 3 columns]"
            ]
          },
          "metadata": {
            "tags": []
          },
          "execution_count": 16
        }
      ]
    },
    {
      "cell_type": "code",
      "metadata": {
        "colab": {
          "base_uri": "https://localhost:8080/",
          "height": 238
        },
        "id": "zV7gHqgU36iz",
        "outputId": "baff74ca-a07d-47c5-a761-8e6b259e8647"
      },
      "source": [
        "daten.tail(5)"
      ],
      "execution_count": null,
      "outputs": [
        {
          "output_type": "execute_result",
          "data": {
            "text/html": [
              "<div>\n",
              "<style scoped>\n",
              "    .dataframe tbody tr th:only-of-type {\n",
              "        vertical-align: middle;\n",
              "    }\n",
              "\n",
              "    .dataframe tbody tr th {\n",
              "        vertical-align: top;\n",
              "    }\n",
              "\n",
              "    .dataframe thead th {\n",
              "        text-align: right;\n",
              "    }\n",
              "</style>\n",
              "<table border=\"1\" class=\"dataframe\">\n",
              "  <thead>\n",
              "    <tr style=\"text-align: right;\">\n",
              "      <th></th>\n",
              "      <th>UNFALLHERGANG</th>\n",
              "      <th>UNFART_NAM</th>\n",
              "      <th>UNFART_BEZ</th>\n",
              "    </tr>\n",
              "    <tr>\n",
              "      <th>LNR</th>\n",
              "      <th></th>\n",
              "      <th></th>\n",
              "      <th></th>\n",
              "    </tr>\n",
              "  </thead>\n",
              "  <tbody>\n",
              "    <tr>\n",
              "      <th>262833</th>\n",
              "      <td>D-Bericht angefordert</td>\n",
              "      <td>88</td>\n",
              "      <td>Kein Versicherungsfall</td>\n",
              "    </tr>\n",
              "    <tr>\n",
              "      <th>262834</th>\n",
              "      <td>Unfallort : Achenbach Krankenhaus / Innere Abt...</td>\n",
              "      <td>88</td>\n",
              "      <td>Kein Versicherungsfall</td>\n",
              "    </tr>\n",
              "    <tr>\n",
              "      <th>262835</th>\n",
              "      <td>unbekannt</td>\n",
              "      <td>88</td>\n",
              "      <td>Kein Versicherungsfall</td>\n",
              "    </tr>\n",
              "    <tr>\n",
              "      <th>262836</th>\n",
              "      <td>Der Versicherte wurde vom Pflegepersonal im Pa...</td>\n",
              "      <td>88</td>\n",
              "      <td>Kein Versicherungsfall</td>\n",
              "    </tr>\n",
              "    <tr>\n",
              "      <th>262837</th>\n",
              "      <td>Der Patient ist im Zimmer gestürzt und mit dem...</td>\n",
              "      <td>88</td>\n",
              "      <td>Kein Versicherungsfall</td>\n",
              "    </tr>\n",
              "  </tbody>\n",
              "</table>\n",
              "</div>"
            ],
            "text/plain": [
              "                                            UNFALLHERGANG  ...                        UNFART_BEZ\n",
              "LNR                                                        ...                                  \n",
              "262833                              D-Bericht angefordert  ...  Kein Versicherungsfall          \n",
              "262834  Unfallort : Achenbach Krankenhaus / Innere Abt...  ...  Kein Versicherungsfall          \n",
              "262835                                          unbekannt  ...  Kein Versicherungsfall          \n",
              "262836  Der Versicherte wurde vom Pflegepersonal im Pa...  ...  Kein Versicherungsfall          \n",
              "262837  Der Patient ist im Zimmer gestürzt und mit dem...  ...  Kein Versicherungsfall          \n",
              "\n",
              "[5 rows x 3 columns]"
            ]
          },
          "metadata": {
            "tags": []
          },
          "execution_count": 17
        }
      ]
    },
    {
      "cell_type": "code",
      "metadata": {
        "colab": {
          "base_uri": "https://localhost:8080/"
        },
        "id": "wsNfmAKB4S9B",
        "outputId": "4cd016a1-98f9-4f03-ae43-b66733b00e07"
      },
      "source": [
        "daten.info()"
      ],
      "execution_count": null,
      "outputs": [
        {
          "output_type": "stream",
          "text": [
            "<class 'pandas.core.frame.DataFrame'>\n",
            "Int64Index: 262837 entries, 1 to 262837\n",
            "Data columns (total 3 columns):\n",
            " #   Column         Non-Null Count   Dtype \n",
            "---  ------         --------------   ----- \n",
            " 0   UNFALLHERGANG  262837 non-null  object\n",
            " 1   UNFART_NAM     262837 non-null  int64 \n",
            " 2   UNFART_BEZ     262837 non-null  object\n",
            "dtypes: int64(1), object(2)\n",
            "memory usage: 8.0+ MB\n"
          ],
          "name": "stdout"
        }
      ]
    },
    {
      "cell_type": "code",
      "metadata": {
        "colab": {
          "base_uri": "https://localhost:8080/"
        },
        "id": "uQzG4Brv4tgz",
        "outputId": "8f1c23d4-d972-4b27-f4bb-8bb76f695450"
      },
      "source": [
        "daten.isnull().sum()"
      ],
      "execution_count": null,
      "outputs": [
        {
          "output_type": "execute_result",
          "data": {
            "text/plain": [
              "UNFALLHERGANG    0\n",
              "UNFART_NAM       0\n",
              "UNFART_BEZ       0\n",
              "dtype: int64"
            ]
          },
          "metadata": {
            "tags": []
          },
          "execution_count": 19
        }
      ]
    },
    {
      "cell_type": "code",
      "metadata": {
        "colab": {
          "base_uri": "https://localhost:8080/"
        },
        "id": "ylmc01Ng472R",
        "outputId": "3ca53fba-cd09-43fc-cbe9-c6d9ad4b8897"
      },
      "source": [
        "daten['UNFART_BEZ'].describe()"
      ],
      "execution_count": null,
      "outputs": [
        {
          "output_type": "execute_result",
          "data": {
            "text/plain": [
              "count                               262837\n",
              "unique                                  12\n",
              "top       Arbeitsunfall b.betriebl.Tätigk.\n",
              "freq                                146836\n",
              "Name: UNFART_BEZ, dtype: object"
            ]
          },
          "metadata": {
            "tags": []
          },
          "execution_count": 20
        }
      ]
    },
    {
      "cell_type": "code",
      "metadata": {
        "colab": {
          "base_uri": "https://localhost:8080/"
        },
        "id": "rm1Emj-Z50oJ",
        "outputId": "013f231a-a5d8-4127-b93f-bb2bd39e7155"
      },
      "source": [
        "daten['UNFART_BEZ'].value_counts().head(10)"
      ],
      "execution_count": null,
      "outputs": [
        {
          "output_type": "execute_result",
          "data": {
            "text/plain": [
              "Arbeitsunfall b.betriebl.Tätigk.    146836\n",
              "Kein Versicherungsfall               41687\n",
              "Wegeunfall (inf.Straßenverkehr)      30224\n",
              "Wegeunfall                           17349\n",
              "Leereintrag                          15965\n",
              "Unfallart vorläufig unbekannt         4305\n",
              "Auf Dienstwegen(Straßenverk.)         2154\n",
              "Arbeitsunfall auf Dienstwegen         1595\n",
              "Unfallart endgültig unbekannt         1405\n",
              "B.betriebl.Tätigk.(Straßenverk.)      1162\n",
              "Name: UNFART_BEZ, dtype: int64"
            ]
          },
          "metadata": {
            "tags": []
          },
          "execution_count": 21
        }
      ]
    },
    {
      "cell_type": "code",
      "metadata": {
        "colab": {
          "base_uri": "https://localhost:8080/"
        },
        "id": "reWUanLV6SMM",
        "outputId": "fb94d1f1-f575-4079-f88a-2d8af8ef6cb7"
      },
      "source": [
        "daten.iloc[20000]"
      ],
      "execution_count": null,
      "outputs": [
        {
          "output_type": "execute_result",
          "data": {
            "text/plain": [
              "UNFALLHERGANG    UV war mit dem Fahrrad auf dem Weg zur Mittags...\n",
              "UNFART_NAM                                                       8\n",
              "UNFART_BEZ                        Unfallart vorläufig unbekannt   \n",
              "Name: 20001, dtype: object"
            ]
          },
          "metadata": {
            "tags": []
          },
          "execution_count": 23
        }
      ]
    },
    {
      "cell_type": "code",
      "metadata": {
        "colab": {
          "base_uri": "https://localhost:8080/"
        },
        "id": "VYaZYSre6szP",
        "outputId": "eeeaa3ba-b2ec-430a-cc4d-e00197065513"
      },
      "source": [
        "daten_unbekannt = (daten['UNFART_BEZ'] == \"Leereintrag\")\n",
        "daten_unbekannt.head()"
      ],
      "execution_count": null,
      "outputs": [
        {
          "output_type": "execute_result",
          "data": {
            "text/plain": [
              "LNR\n",
              "1    True\n",
              "2    True\n",
              "3    True\n",
              "4    True\n",
              "5    True\n",
              "Name: UNFART_BEZ, dtype: bool"
            ]
          },
          "metadata": {
            "tags": []
          },
          "execution_count": 35
        }
      ]
    },
    {
      "cell_type": "code",
      "metadata": {
        "colab": {
          "base_uri": "https://localhost:8080/",
          "height": 81
        },
        "id": "YvchJbuJ7CSj",
        "outputId": "648f45ab-8a51-4b2a-ce72-12338b0a2b0a"
      },
      "source": [
        "daten[daten['UNFART_BEZ'] == \"Leereintrag\"].head()"
      ],
      "execution_count": null,
      "outputs": [
        {
          "output_type": "execute_result",
          "data": {
            "text/html": [
              "<div>\n",
              "<style scoped>\n",
              "    .dataframe tbody tr th:only-of-type {\n",
              "        vertical-align: middle;\n",
              "    }\n",
              "\n",
              "    .dataframe tbody tr th {\n",
              "        vertical-align: top;\n",
              "    }\n",
              "\n",
              "    .dataframe thead th {\n",
              "        text-align: right;\n",
              "    }\n",
              "</style>\n",
              "<table border=\"1\" class=\"dataframe\">\n",
              "  <thead>\n",
              "    <tr style=\"text-align: right;\">\n",
              "      <th></th>\n",
              "      <th>UNFALLHERGANG</th>\n",
              "      <th>UNFART_NAM</th>\n",
              "      <th>UNFART_BEZ</th>\n",
              "    </tr>\n",
              "    <tr>\n",
              "      <th>LNR</th>\n",
              "      <th></th>\n",
              "      <th></th>\n",
              "      <th></th>\n",
              "    </tr>\n",
              "  </thead>\n",
              "  <tbody>\n",
              "  </tbody>\n",
              "</table>\n",
              "</div>"
            ],
            "text/plain": [
              "Empty DataFrame\n",
              "Columns: [UNFALLHERGANG, UNFART_NAM, UNFART_BEZ]\n",
              "Index: []"
            ]
          },
          "metadata": {
            "tags": []
          },
          "execution_count": 31
        }
      ]
    },
    {
      "cell_type": "code",
      "metadata": {
        "colab": {
          "base_uri": "https://localhost:8080/",
          "height": 238
        },
        "id": "KeTARvAr9Bot",
        "outputId": "8bfa7327-120d-4379-b35c-a5ff6819162a"
      },
      "source": [
        "daten[daten['UNFART_BEZ'].str.strip() == \"Leereintrag\"].head()"
      ],
      "execution_count": null,
      "outputs": [
        {
          "output_type": "execute_result",
          "data": {
            "text/html": [
              "<div>\n",
              "<style scoped>\n",
              "    .dataframe tbody tr th:only-of-type {\n",
              "        vertical-align: middle;\n",
              "    }\n",
              "\n",
              "    .dataframe tbody tr th {\n",
              "        vertical-align: top;\n",
              "    }\n",
              "\n",
              "    .dataframe thead th {\n",
              "        text-align: right;\n",
              "    }\n",
              "</style>\n",
              "<table border=\"1\" class=\"dataframe\">\n",
              "  <thead>\n",
              "    <tr style=\"text-align: right;\">\n",
              "      <th></th>\n",
              "      <th>UNFALLHERGANG</th>\n",
              "      <th>UNFART_NAM</th>\n",
              "      <th>UNFART_BEZ</th>\n",
              "    </tr>\n",
              "    <tr>\n",
              "      <th>LNR</th>\n",
              "      <th></th>\n",
              "      <th></th>\n",
              "      <th></th>\n",
              "    </tr>\n",
              "  </thead>\n",
              "  <tbody>\n",
              "    <tr>\n",
              "      <th>1</th>\n",
              "      <td>Versicherter ist auf dem Fahrrad auf dem Nachh...</td>\n",
              "      <td>1</td>\n",
              "      <td>Leereintrag</td>\n",
              "    </tr>\n",
              "    <tr>\n",
              "      <th>2</th>\n",
              "      <td>Unfallort:\\nDer Pat. ist auf Glatteis ausgerut...</td>\n",
              "      <td>1</td>\n",
              "      <td>Leereintrag</td>\n",
              "    </tr>\n",
              "    <tr>\n",
              "      <th>3</th>\n",
              "      <td>Auf dem WEg zur Arbeit auf Glatteis ausgerutsc...</td>\n",
              "      <td>1</td>\n",
              "      <td>Leereintrag</td>\n",
              "    </tr>\n",
              "    <tr>\n",
              "      <th>4</th>\n",
              "      <td>Die Versicherte habe ein Garagentor auf dem Ko...</td>\n",
              "      <td>1</td>\n",
              "      <td>Leereintrag</td>\n",
              "    </tr>\n",
              "    <tr>\n",
              "      <th>5</th>\n",
              "      <td>Fußläufige Vorstellung in unserer ZNA. Die Ver...</td>\n",
              "      <td>1</td>\n",
              "      <td>Leereintrag</td>\n",
              "    </tr>\n",
              "  </tbody>\n",
              "</table>\n",
              "</div>"
            ],
            "text/plain": [
              "                                         UNFALLHERGANG  ...                        UNFART_BEZ\n",
              "LNR                                                     ...                                  \n",
              "1    Versicherter ist auf dem Fahrrad auf dem Nachh...  ...  Leereintrag                     \n",
              "2    Unfallort:\\nDer Pat. ist auf Glatteis ausgerut...  ...  Leereintrag                     \n",
              "3    Auf dem WEg zur Arbeit auf Glatteis ausgerutsc...  ...  Leereintrag                     \n",
              "4    Die Versicherte habe ein Garagentor auf dem Ko...  ...  Leereintrag                     \n",
              "5    Fußläufige Vorstellung in unserer ZNA. Die Ver...  ...  Leereintrag                     \n",
              "\n",
              "[5 rows x 3 columns]"
            ]
          },
          "metadata": {
            "tags": []
          },
          "execution_count": 37
        }
      ]
    }
  ]
}