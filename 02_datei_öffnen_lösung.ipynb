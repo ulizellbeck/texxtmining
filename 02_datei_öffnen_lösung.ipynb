{
  "nbformat": 4,
  "nbformat_minor": 0,
  "metadata": {
    "colab": {
      "name": "02_datei_öffnen_lösung.ipynb",
      "provenance": []
    },
    "kernelspec": {
      "name": "python3",
      "display_name": "Python 3"
    },
    "language_info": {
      "name": "python"
    }
  },
  "cells": [
    {
      "cell_type": "markdown",
      "metadata": {
        "id": "Yaw6uLjlfzZV"
      },
      "source": [
        "* Öffnen der Datei \"DatenAnonymisiert_ansi_part.csv\" mit der Funktion \"[open](https://docs.python.org/3/library/functions.html#open)\" und bereitstellen als Variable \"daten\"\n",
        "* Auslesen einer Zeile mit der Funktion \"[readline](https://www.w3schools.com/python/ref_file_readline.asp)\"\n",
        "* Erstellen einer variable \"text\" die den gesamten Text der Datei mit der Funktion \"[read](https://www.w3schools.com/python/ref_file_read.asp)\" liest.\n",
        "* Zähle die Anzahl der Wörter mit der Funktion \"[len](https://www.programiz.com/python-programming/methods/built-in/len)\"\n",
        "* Erstelle eine Variable \"text2\" mit der Funktion \"[splitlines](https://www.w3schools.com/python/ref_string_splitlines.asp)\", welche die einzelnen Zeilen der Datei als Liste einliest.\n",
        "* Zähle die Anzahl der Zeilen."
      ]
    },
    {
      "cell_type": "code",
      "metadata": {
        "id": "rk5ZVbS-KUoD"
      },
      "source": [
        "# Öffnen des Files\n",
        "daten = open('/content/drive/MyDrive/vbg/DatenAnonymisiert_ansi_part.csv')"
      ],
      "execution_count": null,
      "outputs": []
    },
    {
      "cell_type": "code",
      "metadata": {
        "colab": {
          "base_uri": "https://localhost:8080/",
          "height": 299
        },
        "id": "NEguIYTCLOZ_",
        "outputId": "f1dccd4c-ae59-4b78-c9e8-b6d2af2d2e0e"
      },
      "source": [
        "# Auslesen einer Zeile\n",
        "daten.readline()"
      ],
      "execution_count": null,
      "outputs": [
        {
          "output_type": "error",
          "ename": "UnicodeDecodeError",
          "evalue": "ignored",
          "traceback": [
            "\u001b[0;31m---------------------------------------------------------------------------\u001b[0m",
            "\u001b[0;31mUnicodeDecodeError\u001b[0m                        Traceback (most recent call last)",
            "\u001b[0;32m<ipython-input-2-328b8201a98e>\u001b[0m in \u001b[0;36m<module>\u001b[0;34m()\u001b[0m\n\u001b[0;32m----> 1\u001b[0;31m \u001b[0mg\u001b[0m\u001b[0;34m.\u001b[0m\u001b[0mreadline\u001b[0m\u001b[0;34m(\u001b[0m\u001b[0;34m)\u001b[0m\u001b[0;34m\u001b[0m\u001b[0;34m\u001b[0m\u001b[0m\n\u001b[0m",
            "\u001b[0;32m/usr/lib/python3.7/codecs.py\u001b[0m in \u001b[0;36mdecode\u001b[0;34m(self, input, final)\u001b[0m\n\u001b[1;32m    320\u001b[0m         \u001b[0;31m# decode input (taking the buffer into account)\u001b[0m\u001b[0;34m\u001b[0m\u001b[0;34m\u001b[0m\u001b[0;34m\u001b[0m\u001b[0m\n\u001b[1;32m    321\u001b[0m         \u001b[0mdata\u001b[0m \u001b[0;34m=\u001b[0m \u001b[0mself\u001b[0m\u001b[0;34m.\u001b[0m\u001b[0mbuffer\u001b[0m \u001b[0;34m+\u001b[0m \u001b[0minput\u001b[0m\u001b[0;34m\u001b[0m\u001b[0;34m\u001b[0m\u001b[0m\n\u001b[0;32m--> 322\u001b[0;31m         \u001b[0;34m(\u001b[0m\u001b[0mresult\u001b[0m\u001b[0;34m,\u001b[0m \u001b[0mconsumed\u001b[0m\u001b[0;34m)\u001b[0m \u001b[0;34m=\u001b[0m \u001b[0mself\u001b[0m\u001b[0;34m.\u001b[0m\u001b[0m_buffer_decode\u001b[0m\u001b[0;34m(\u001b[0m\u001b[0mdata\u001b[0m\u001b[0;34m,\u001b[0m \u001b[0mself\u001b[0m\u001b[0;34m.\u001b[0m\u001b[0merrors\u001b[0m\u001b[0;34m,\u001b[0m \u001b[0mfinal\u001b[0m\u001b[0;34m)\u001b[0m\u001b[0;34m\u001b[0m\u001b[0;34m\u001b[0m\u001b[0m\n\u001b[0m\u001b[1;32m    323\u001b[0m         \u001b[0;31m# keep undecoded input until the next call\u001b[0m\u001b[0;34m\u001b[0m\u001b[0;34m\u001b[0m\u001b[0;34m\u001b[0m\u001b[0m\n\u001b[1;32m    324\u001b[0m         \u001b[0mself\u001b[0m\u001b[0;34m.\u001b[0m\u001b[0mbuffer\u001b[0m \u001b[0;34m=\u001b[0m \u001b[0mdata\u001b[0m\u001b[0;34m[\u001b[0m\u001b[0mconsumed\u001b[0m\u001b[0;34m:\u001b[0m\u001b[0;34m]\u001b[0m\u001b[0;34m\u001b[0m\u001b[0;34m\u001b[0m\u001b[0m\n",
            "\u001b[0;31mUnicodeDecodeError\u001b[0m: 'utf-8' codec can't decode byte 0xfc in position 136: invalid start byte"
          ]
        }
      ]
    },
    {
      "cell_type": "code",
      "metadata": {
        "id": "3zp59PK9MbEH",
        "colab": {
          "base_uri": "https://localhost:8080/"
        },
        "outputId": "43abc7ab-8c5a-485c-8e32-b017bb4bf891"
      },
      "source": [
        "# Füge den Codec \n",
        "daten = open('/content/drive/MyDrive/vbg/DatenAnonymisiert_ansi_part.csv', encoding='latin1')\n",
        "daten"
      ],
      "execution_count": null,
      "outputs": [
        {
          "output_type": "execute_result",
          "data": {
            "text/plain": [
              "<_io.TextIOWrapper name='/content/drive/MyDrive/vbg/DatenAnonymisiert_ansi_part.csv' mode='r' encoding='latin1'>"
            ]
          },
          "metadata": {
            "tags": []
          },
          "execution_count": 1
        }
      ]
    },
    {
      "cell_type": "code",
      "metadata": {
        "id": "cv5Tf1HAMSxu",
        "colab": {
          "base_uri": "https://localhost:8080/",
          "height": 73
        },
        "outputId": "3e455aaf-d389-4268-b5c7-c9161938553e"
      },
      "source": [
        "# Auslesen einer Zeile\n",
        "daten.readline()"
      ],
      "execution_count": null,
      "outputs": [
        {
          "output_type": "execute_result",
          "data": {
            "application/vnd.google.colaboratory.intrinsic+json": {
              "type": "string"
            },
            "text/plain": [
              "'Versicherter ist auf dem Fahrrad auf dem Nachhauseweg verunfallt. Ein stehendes Auto habe die Tür geöffnet, der Versicherte konnte nicht mehr bremsen und ist gegen die Autotür gefahren. Versicherter war behelmt, kein Kopfanprall. Tetanusschutz nicht sicher intakt, wird morgen über beim niedergelassenen Hausarzt gprüft und ggf. nachgeholt. Unfallort Berliner Straße, Köln-Mühlheim;1;01              ;Leereintrag                     \\n'"
            ]
          },
          "metadata": {
            "tags": []
          },
          "execution_count": 5
        }
      ]
    },
    {
      "cell_type": "code",
      "metadata": {
        "colab": {
          "base_uri": "https://localhost:8080/"
        },
        "id": "6cZxKAhCtGpn",
        "outputId": "7e868f00-284a-4165-8800-24b8fd2decb4"
      },
      "source": [
        "text = g.read()\n",
        "len(text)"
      ],
      "execution_count": null,
      "outputs": [
        {
          "output_type": "execute_result",
          "data": {
            "text/plain": [
              "20173"
            ]
          },
          "metadata": {
            "tags": []
          },
          "execution_count": 7
        }
      ]
    },
    {
      "cell_type": "code",
      "metadata": {
        "colab": {
          "base_uri": "https://localhost:8080/"
        },
        "id": "orzPNhQotWnC",
        "outputId": "ddb8f18b-8874-4fb4-d58d-579345cdcf60"
      },
      "source": [
        "text2 = text.splitlines()\n",
        "len(text2)"
      ],
      "execution_count": null,
      "outputs": [
        {
          "output_type": "execute_result",
          "data": {
            "text/plain": [
              "98"
            ]
          },
          "metadata": {
            "tags": []
          },
          "execution_count": 8
        }
      ]
    }
  ]
}