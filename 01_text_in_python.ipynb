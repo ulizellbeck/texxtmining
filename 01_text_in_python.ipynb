{
  "nbformat": 4,
  "nbformat_minor": 0,
  "metadata": {
    "colab": {
      "name": "01_text_in_python.ipynb",
      "provenance": []
    },
    "kernelspec": {
      "name": "python3",
      "display_name": "Python 3"
    },
    "language_info": {
      "name": "python"
    }
  },
  "cells": [
    {
      "cell_type": "markdown",
      "metadata": {
        "id": "etsBiAm4l9aI"
      },
      "source": [
        "Einführung in Python"
      ]
    },
    {
      "cell_type": "code",
      "metadata": {
        "colab": {
          "base_uri": "https://localhost:8080/"
        },
        "id": "5eO3NZJRmBdI",
        "outputId": "282b9fc8-f9cc-4e81-d26a-29092d74adb6"
      },
      "source": [
        "text1 = \"Ethics are built right into the ideals and objectives of the United Nations\"\n",
        "len(text1)\n"
      ],
      "execution_count": null,
      "outputs": [
        {
          "output_type": "execute_result",
          "data": {
            "text/plain": [
              "75"
            ]
          },
          "metadata": {
            "tags": []
          },
          "execution_count": 1
        }
      ]
    },
    {
      "cell_type": "code",
      "metadata": {
        "colab": {
          "base_uri": "https://localhost:8080/"
        },
        "id": "lMOyTurpmWm9",
        "outputId": "da53a375-fb59-4eaf-876d-d47746798d9b"
      },
      "source": [
        "text2 = text1.split(' ')\n",
        "len(text2)"
      ],
      "execution_count": null,
      "outputs": [
        {
          "output_type": "execute_result",
          "data": {
            "text/plain": [
              "13"
            ]
          },
          "metadata": {
            "tags": []
          },
          "execution_count": 2
        }
      ]
    },
    {
      "cell_type": "code",
      "metadata": {
        "colab": {
          "base_uri": "https://localhost:8080/"
        },
        "id": "RpROYDbKmZ45",
        "outputId": "8046603a-83b1-41ac-ee5f-8c914cea4cdf"
      },
      "source": [
        "text2"
      ],
      "execution_count": null,
      "outputs": [
        {
          "output_type": "execute_result",
          "data": {
            "text/plain": [
              "['Ethics',\n",
              " 'are',\n",
              " 'built',\n",
              " 'right',\n",
              " 'into',\n",
              " 'the',\n",
              " 'ideals',\n",
              " 'and',\n",
              " 'objectives',\n",
              " 'of',\n",
              " 'the',\n",
              " 'United',\n",
              " 'Nations']"
            ]
          },
          "metadata": {
            "tags": []
          },
          "execution_count": 3
        }
      ]
    },
    {
      "cell_type": "code",
      "metadata": {
        "colab": {
          "base_uri": "https://localhost:8080/"
        },
        "id": "GZeUHU1qnN9r",
        "outputId": "22e7b7d5-29cf-4d8f-c4b4-83dcc67bb735"
      },
      "source": [
        "# Wörter ausgeben, die aus mehr als 3 Buchstaben bestehen\n",
        "[w for w in text2 if len(w) > 3]"
      ],
      "execution_count": null,
      "outputs": [
        {
          "output_type": "execute_result",
          "data": {
            "text/plain": [
              "['Ethics',\n",
              " 'built',\n",
              " 'right',\n",
              " 'into',\n",
              " 'ideals',\n",
              " 'objectives',\n",
              " 'United',\n",
              " 'Nations']"
            ]
          },
          "metadata": {
            "tags": []
          },
          "execution_count": 4
        }
      ]
    },
    {
      "cell_type": "code",
      "metadata": {
        "colab": {
          "base_uri": "https://localhost:8080/"
        },
        "id": "d0GcHyBVnUxl",
        "outputId": "f6d92790-9fa0-486d-c1dd-f19dd80eed59"
      },
      "source": [
        "# Wörter ausgeben, die mit einem Großbuchstaben beginnen\n",
        "[w for w in text2 if w.istitle()]"
      ],
      "execution_count": null,
      "outputs": [
        {
          "output_type": "execute_result",
          "data": {
            "text/plain": [
              "['Ethics', 'United', 'Nations']"
            ]
          },
          "metadata": {
            "tags": []
          },
          "execution_count": 5
        }
      ]
    },
    {
      "cell_type": "code",
      "metadata": {
        "colab": {
          "base_uri": "https://localhost:8080/"
        },
        "id": "DDepKq6Lnbgo",
        "outputId": "506489f9-a9c4-4dc3-d4a6-2bc46dba537b"
      },
      "source": [
        "# Wörter ausgeben, die mit einem 's' enden\n",
        "[w for w in text2 if w.endswith('s')]"
      ],
      "execution_count": null,
      "outputs": [
        {
          "output_type": "execute_result",
          "data": {
            "text/plain": [
              "['Ethics', 'ideals', 'objectives', 'Nations']"
            ]
          },
          "metadata": {
            "tags": []
          },
          "execution_count": 6
        }
      ]
    },
    {
      "cell_type": "code",
      "metadata": {
        "colab": {
          "base_uri": "https://localhost:8080/"
        },
        "id": "aU81tsZynk7u",
        "outputId": "5d71cb8a-81ae-4e34-e89b-2485bb9a429b"
      },
      "source": [
        "# Eindeutige Wörter mit 'set' finden\n",
        "text3 = 'To be or not to Be'\n",
        "text4 = text3.split(' ')\n",
        "len(text4)"
      ],
      "execution_count": null,
      "outputs": [
        {
          "output_type": "execute_result",
          "data": {
            "text/plain": [
              "6"
            ]
          },
          "metadata": {
            "tags": []
          },
          "execution_count": 8
        }
      ]
    },
    {
      "cell_type": "code",
      "metadata": {
        "colab": {
          "base_uri": "https://localhost:8080/"
        },
        "id": "B6xl_6T-nnr2",
        "outputId": "c6cd76ce-0a73-42c7-832c-88e41155edf8"
      },
      "source": [
        "len(set(text4))"
      ],
      "execution_count": null,
      "outputs": [
        {
          "output_type": "execute_result",
          "data": {
            "text/plain": [
              "6"
            ]
          },
          "metadata": {
            "tags": []
          },
          "execution_count": 9
        }
      ]
    },
    {
      "cell_type": "code",
      "metadata": {
        "colab": {
          "base_uri": "https://localhost:8080/"
        },
        "id": "dvNBpoQooAIw",
        "outputId": "2ebac5ef-afcb-4796-f8a5-16c7934d910c"
      },
      "source": [
        "len(set([w.lower() for w in text4]))"
      ],
      "execution_count": null,
      "outputs": [
        {
          "output_type": "execute_result",
          "data": {
            "text/plain": [
              "4"
            ]
          },
          "metadata": {
            "tags": []
          },
          "execution_count": 10
        }
      ]
    },
    {
      "cell_type": "code",
      "metadata": {
        "colab": {
          "base_uri": "https://localhost:8080/"
        },
        "id": "gdFNHVMeoB8g",
        "outputId": "9d6100ec-f89c-455a-f74f-18887f97b9dd"
      },
      "source": [
        "set([w.lower() for w in text4])"
      ],
      "execution_count": null,
      "outputs": [
        {
          "output_type": "execute_result",
          "data": {
            "text/plain": [
              "{'be', 'not', 'or', 'to'}"
            ]
          },
          "metadata": {
            "tags": []
          },
          "execution_count": 11
        }
      ]
    },
    {
      "cell_type": "markdown",
      "metadata": {
        "id": "HPbfQxB2oR_r"
      },
      "source": [
        "Einige Wortvergleichsfunktionen ...\n",
        "* s.startswith(t)\n",
        "* s.endswith(t)\n",
        "* t in s\n",
        "* s.isupper(); s.islower(); s.istitle()\n",
        "* s.isalpha(); s.isdigit(); s.isalnum()"
      ]
    },
    {
      "cell_type": "markdown",
      "metadata": {
        "id": "UfYfTGTyohaf"
      },
      "source": [
        "String Operatoren\n",
        "* s.lower(); s.upper(); s.titlecase()\n",
        "* s.split(t)\n",
        "* s.splitlines()\n",
        "* s.join(t)\n",
        "* s.strip(); s.rstrip()\n",
        "* s.find(t); s.rfind(t)\n",
        "* s.replace(u, v)"
      ]
    },
    {
      "cell_type": "code",
      "metadata": {
        "colab": {
          "base_uri": "https://localhost:8080/"
        },
        "id": "NN22z8mkoObf",
        "outputId": "563ed9e9-bb07-417e-b545-66f16dce752d"
      },
      "source": [
        "# Zeichen exportieren\n",
        "text5 = 'ouagadougou'\n",
        "text6 = text5.split('ou')\n",
        "text6"
      ],
      "execution_count": null,
      "outputs": [
        {
          "output_type": "execute_result",
          "data": {
            "text/plain": [
              "['', 'agad', 'g', '']"
            ]
          },
          "metadata": {
            "tags": []
          },
          "execution_count": 15
        }
      ]
    },
    {
      "cell_type": "code",
      "metadata": {
        "colab": {
          "base_uri": "https://localhost:8080/",
          "height": 36
        },
        "id": "MioQbMClu8zp",
        "outputId": "3ffc1744-be47-4b23-c841-ba2ffcbd5d52"
      },
      "source": [
        "'ou'.join(text6)"
      ],
      "execution_count": null,
      "outputs": [
        {
          "output_type": "execute_result",
          "data": {
            "application/vnd.google.colaboratory.intrinsic+json": {
              "type": "string"
            },
            "text/plain": [
              "'wuagadwugwu'"
            ]
          },
          "metadata": {
            "tags": []
          },
          "execution_count": 17
        }
      ]
    },
    {
      "cell_type": "code",
      "metadata": {
        "colab": {
          "base_uri": "https://localhost:8080/"
        },
        "id": "qUb2aUCAwIVv",
        "outputId": "56a1f430-c7c2-4d5c-b47e-0cd2abf171e0"
      },
      "source": [
        "list(text5)"
      ],
      "execution_count": null,
      "outputs": [
        {
          "output_type": "execute_result",
          "data": {
            "text/plain": [
              "['o', 'u', 'a', 'g', 'a', 'd', 'o', 'u', 'g', 'o', 'u']"
            ]
          },
          "metadata": {
            "tags": []
          },
          "execution_count": 19
        }
      ]
    },
    {
      "cell_type": "code",
      "metadata": {
        "colab": {
          "base_uri": "https://localhost:8080/"
        },
        "id": "bPNA33zkwRLX",
        "outputId": "4aac908e-af3d-4b6b-cd6e-26affeb53b14"
      },
      "source": [
        "[c for c in text5]"
      ],
      "execution_count": null,
      "outputs": [
        {
          "output_type": "execute_result",
          "data": {
            "text/plain": [
              "['o', 'u', 'a', 'g', 'a', 'd', 'o', 'u', 'g', 'o', 'u']"
            ]
          },
          "metadata": {
            "tags": []
          },
          "execution_count": 20
        }
      ]
    },
    {
      "cell_type": "code",
      "metadata": {
        "id": "GfNy7skjwVk-"
      },
      "source": [
        "# Text-Bereinigung\n",
        "text8 = ' A quick brown fox jumped over the lazy dog. '"
      ],
      "execution_count": null,
      "outputs": []
    },
    {
      "cell_type": "code",
      "metadata": {
        "colab": {
          "base_uri": "https://localhost:8080/"
        },
        "id": "OzM4cAuiwWx9",
        "outputId": "06adba78-cff3-4988-b52a-aea5cf8d2078"
      },
      "source": [
        "text8.split(' ')"
      ],
      "execution_count": null,
      "outputs": [
        {
          "output_type": "execute_result",
          "data": {
            "text/plain": [
              "['', 'A', 'quick', 'brown', 'fox', 'jumped', 'over', 'the', 'lazy', 'dog.', '']"
            ]
          },
          "metadata": {
            "tags": []
          },
          "execution_count": 22
        }
      ]
    },
    {
      "cell_type": "code",
      "metadata": {
        "colab": {
          "base_uri": "https://localhost:8080/"
        },
        "id": "RfOo4o2hwe2Z",
        "outputId": "f4eae619-7070-48d3-b84a-ce429081feca"
      },
      "source": [
        "text9 = text8.strip()\n",
        "text9.split(' ')"
      ],
      "execution_count": null,
      "outputs": [
        {
          "output_type": "execute_result",
          "data": {
            "text/plain": [
              "['A', 'quick', 'brown', 'fox', 'jumped', 'over', 'the', 'lazy', 'dog.']"
            ]
          },
          "metadata": {
            "tags": []
          },
          "execution_count": 23
        }
      ]
    },
    {
      "cell_type": "code",
      "metadata": {
        "colab": {
          "base_uri": "https://localhost:8080/"
        },
        "id": "VTUkhMLGwnyP",
        "outputId": "7a0a2592-6a0d-4328-9d20-8164403ccd27"
      },
      "source": [
        "text9.find('o')"
      ],
      "execution_count": null,
      "outputs": [
        {
          "output_type": "execute_result",
          "data": {
            "text/plain": [
              "10"
            ]
          },
          "metadata": {
            "tags": []
          },
          "execution_count": 24
        }
      ]
    },
    {
      "cell_type": "code",
      "metadata": {
        "colab": {
          "base_uri": "https://localhost:8080/",
          "height": 36
        },
        "id": "DBgUXk-VwvLN",
        "outputId": "0dc0cece-99a0-46f8-f4d0-aab11fbdc090"
      },
      "source": [
        "text9.replace('o', 'O')"
      ],
      "execution_count": null,
      "outputs": [
        {
          "output_type": "execute_result",
          "data": {
            "application/vnd.google.colaboratory.intrinsic+json": {
              "type": "string"
            },
            "text/plain": [
              "'A quick brOwn fOx jumped Over the lazy dOg.'"
            ]
          },
          "metadata": {
            "tags": []
          },
          "execution_count": 25
        }
      ]
    },
    {
      "cell_type": "code",
      "metadata": {
        "id": "58PHaO8FwzDI"
      },
      "source": [
        "f = open('UNDHR.txt', 'r')"
      ],
      "execution_count": null,
      "outputs": []
    },
    {
      "cell_type": "code",
      "metadata": {
        "colab": {
          "base_uri": "https://localhost:8080/",
          "height": 36
        },
        "id": "LKUIbVhq-yX_",
        "outputId": "82c7b7b6-b0b2-49da-e958-364eea085a1e"
      },
      "source": [
        "f.readline()"
      ],
      "execution_count": null,
      "outputs": [
        {
          "output_type": "execute_result",
          "data": {
            "application/vnd.google.colaboratory.intrinsic+json": {
              "type": "string"
            },
            "text/plain": [
              "'Universal Declaration of Human Rights - English\\n'"
            ]
          },
          "metadata": {
            "tags": []
          },
          "execution_count": 38
        }
      ]
    },
    {
      "cell_type": "code",
      "metadata": {
        "colab": {
          "base_uri": "https://localhost:8080/"
        },
        "id": "ewBzojlW-2RY",
        "outputId": "d38dfa8e-337a-4b90-9d42-a094b4543840"
      },
      "source": [
        "f.seek(0)"
      ],
      "execution_count": null,
      "outputs": [
        {
          "output_type": "execute_result",
          "data": {
            "text/plain": [
              "0"
            ]
          },
          "metadata": {
            "tags": []
          },
          "execution_count": 44
        }
      ]
    },
    {
      "cell_type": "code",
      "metadata": {
        "id": "RSPlnEcq-6q4"
      },
      "source": [
        "text12 = f.read()"
      ],
      "execution_count": null,
      "outputs": []
    },
    {
      "cell_type": "code",
      "metadata": {
        "colab": {
          "base_uri": "https://localhost:8080/"
        },
        "id": "XEEnXRhc--pV",
        "outputId": "33855f7a-754f-4242-d88b-156eb0102c0f"
      },
      "source": [
        "len(text12)"
      ],
      "execution_count": null,
      "outputs": [
        {
          "output_type": "execute_result",
          "data": {
            "text/plain": [
              "12534"
            ]
          },
          "metadata": {
            "tags": []
          },
          "execution_count": 46
        }
      ]
    },
    {
      "cell_type": "code",
      "metadata": {
        "colab": {
          "base_uri": "https://localhost:8080/"
        },
        "id": "wYARknFX_BjU",
        "outputId": "a93741c3-4df2-47d2-8d6a-0e6f565ec245"
      },
      "source": [
        "text13 = text12.splitlines()\n",
        "len(text13)"
      ],
      "execution_count": null,
      "outputs": [
        {
          "output_type": "execute_result",
          "data": {
            "text/plain": [
              "218"
            ]
          },
          "metadata": {
            "tags": []
          },
          "execution_count": 47
        }
      ]
    },
    {
      "cell_type": "code",
      "metadata": {
        "colab": {
          "base_uri": "https://localhost:8080/",
          "height": 36
        },
        "id": "hZfWzXLq_RCE",
        "outputId": "91bec59e-b38b-4669-b4c2-c488cf10675f"
      },
      "source": [
        "text13[0]"
      ],
      "execution_count": null,
      "outputs": [
        {
          "output_type": "execute_result",
          "data": {
            "application/vnd.google.colaboratory.intrinsic+json": {
              "type": "string"
            },
            "text/plain": [
              "'Universal Declaration of Human Rights - English'"
            ]
          },
          "metadata": {
            "tags": []
          },
          "execution_count": 48
        }
      ]
    },
    {
      "cell_type": "markdown",
      "metadata": {
        "id": "j9YhkBdH_VAm"
      },
      "source": [
        "Operationen auf Dateien\n",
        "* f = open(filename, mode)\n",
        "* f.readline(); f.read(); f.read(n)\n",
        "* for line in f: doSomething(line)\n",
        "* f.seek(n)\n",
        "* f.write(message)\n",
        "* f.close()\n",
        "* f.closed"
      ]
    }
  ]
}