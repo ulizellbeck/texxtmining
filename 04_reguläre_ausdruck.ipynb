{
  "nbformat": 4,
  "nbformat_minor": 0,
  "metadata": {
    "kernelspec": {
      "display_name": "Python 3",
      "language": "python",
      "name": "python3"
    },
    "language_info": {
      "codemirror_mode": {
        "name": "ipython",
        "version": 3
      },
      "file_extension": ".py",
      "mimetype": "text/x-python",
      "name": "python",
      "nbconvert_exporter": "python",
      "pygments_lexer": "ipython3",
      "version": "3.6.3"
    },
    "colab": {
      "name": "04_reguläre_ausdruck.ipynb",
      "provenance": []
    }
  },
  "cells": [
    {
      "cell_type": "markdown",
      "metadata": {
        "id": "Q4CQ9TOMJd2L"
      },
      "source": [
        "# Übersicht re-Modul\n",
        "\n",
        "Diese Übersicht dient dem Einstieg in das Thema reguläre Ausdrücke in Python und behandelt nur die absoluten Grundlagen.\n",
        "\n",
        "## Import\n",
        "Import des re-Moduls über das import-statement:"
      ]
    },
    {
      "cell_type": "code",
      "metadata": {
        "collapsed": true,
        "id": "aalm1cCEJd2M"
      },
      "source": [
        "import re"
      ],
      "execution_count": null,
      "outputs": []
    },
    {
      "cell_type": "markdown",
      "metadata": {
        "id": "4lNCQDZ5Jd2N"
      },
      "source": [
        "Jetzt kann über den Paketnamen auf das Modul zugegriffen werden."
      ]
    },
    {
      "cell_type": "markdown",
      "metadata": {
        "id": "fmbH_oT6Jd2O"
      },
      "source": [
        "## Die wichtigsten Methoden im Modul\n",
        "\n",
        "### Matching\n",
        "\n",
        "Beim Matchen wird versucht, zu überprüfen, ob ein Eingabe-String dem Muster eines regulären Ausdrucks entspricht bzw. dieses enthält. Anders ausgedrückt, wird beim Matchen versucht, nur *ein* Vorkommnis eines Musters in der Eingabe zu finden. Zu diesem Zwecke gibt es im `re`-Modul 3 Methoden:\n",
        "\n",
        "```python\n",
        "re.search(pattern, string, flags=0)\n",
        "\n",
        "re.match(pattern, string, flags=0)\n",
        "\n",
        "re.fullmatch(pattern, string, flags=0)\n",
        "```\n",
        "\n",
        "Alle drei Methoden benötigen einen regulären Ausdruck `pattern`, einen Eingabe-String `string` und können optional Flags akzeptieren. Sie unterscheiden sich dadurch, wo das Match im Eingabe-String liegen muss:\n",
        "- bei `search` kann das Match an einer beliebigen Stelle im Eingabe-String liegen, und das erste Auftreten des Musters wird zurückgegeben\n",
        "- bei `match` muss das Match am Anfang des Strings auftreten, der String kann aber danach noch andere Zeichen beinhalten \n",
        "- bei `fullmatch` muss der komplette String dem gegebenen Muster entsprechen\n",
        "\n",
        "Falls die Methoden ein Match geben, wird dieses als *Match Object* zurückgegeben. Falls kein Match gefunden wurde, wird `None` zurückgegeben.\n",
        "\n",
        "#### Beispiel"
      ]
    },
    {
      "cell_type": "code",
      "metadata": {
        "id": "3yJNwGKEJd2P",
        "outputId": "67d81bd0-d8f0-4a18-b357-4a0c7071eb7d"
      },
      "source": [
        "eingabestrings = [\n",
        "    \"----abc----\",\n",
        "    \"abc----\",\n",
        "    \"abc\"\n",
        "]\n",
        "\n",
        "regex = r\"abc\"\n",
        "\n",
        "print(\"Regex-Muster:\", regex)\n",
        "\n",
        "for eingabestring in eingabestrings:\n",
        "    print(\"\\nEingabe-String: \", eingabestring)\n",
        "    print(\"  re.search:   \", re.search(regex, eingabestring))\n",
        "    print(\"  re.match:    \", re.match(regex, eingabestring))\n",
        "    print(\"  re.fullmatch:\", re.fullmatch(regex, eingabestring))\n"
      ],
      "execution_count": null,
      "outputs": [
        {
          "output_type": "stream",
          "text": [
            "Regex-Muster: abc\n",
            "\n",
            "Eingabe-String:  ----abc----\n",
            "  re.search:    <_sre.SRE_Match object; span=(4, 7), match='abc'>\n",
            "  re.match:     None\n",
            "  re.fullmatch: None\n",
            "\n",
            "Eingabe-String:  abc----\n",
            "  re.search:    <_sre.SRE_Match object; span=(0, 3), match='abc'>\n",
            "  re.match:     <_sre.SRE_Match object; span=(0, 3), match='abc'>\n",
            "  re.fullmatch: None\n",
            "\n",
            "Eingabe-String:  abc\n",
            "  re.search:    <_sre.SRE_Match object; span=(0, 3), match='abc'>\n",
            "  re.match:     <_sre.SRE_Match object; span=(0, 3), match='abc'>\n",
            "  re.fullmatch: <_sre.SRE_Match object; span=(0, 3), match='abc'>\n"
          ],
          "name": "stdout"
        }
      ]
    },
    {
      "cell_type": "markdown",
      "metadata": {
        "id": "q5E4FOsMJd2Q"
      },
      "source": [
        "Match-Objekte stellen einige nützliche Methoden und Attribute bereit:\n",
        "\n",
        "```python\n",
        "# mo = ein beliebiges Match-Objekt\n",
        "\n",
        "# Zugriff auf das komplette Match\n",
        "mo[0]\n",
        "mo.group(0)\n",
        "\n",
        "# Zugriff auf den ursprünglichen Eingabe-String\n",
        "mo.string\n",
        "\n",
        "# Start- und Endindices des Matches im Eingabe-String\n",
        "mo.span()  # Start- und Endindex als Tupel\n",
        "mo.start() # Startindex\n",
        "mo.end()   # Endindex\n",
        "```\n",
        "\n",
        "Ein Match-Objekt hat zudem immer den Wahrheitswert `TRUE`. None hat immer den Wahrheitswert `FALSE`. Dadurch können alle Match-Methoden bzw. deren Ausgabe auch für logische Bedingungen, wie z. B. in if-Statements benutzt werden:\n",
        "```python\n",
        "if re.match(regex, string):\n",
        "    print('Ich wurde ausgeführt, weil der String dem Regex-Muster entspricht!')\n",
        "```\n",
        "\n",
        "#### Beispiel\n",
        "Wir wollen überprüfen und ausgeben, ob die Wörter in der Eingabe Textsmileys sind oder nicht:\n",
        "[Link](https://regexr.com/)"
      ]
    },
    {
      "cell_type": "code",
      "metadata": {
        "id": "jGmhh6J6Jd2R",
        "outputId": "3b86f468-c925-4a8f-d1c4-d1a9c75cb8b6"
      },
      "source": [
        "eingabe = [\"Test\", \":)\", \"0123982\", \"()!*@$^\", \":-D\", \"ich schwöre ich bin wirklich ein Smiley\", \":c\", \"XDDDDD\"]\n",
        "\n",
        "regex = r\"[:;=][-^]?[DP()c|\\[\\]{}]|XD+\"\n",
        "\n",
        "for wort in eingabe:\n",
        "    if re.fullmatch(regex, wort):\n",
        "        print(wort, \"ist ein Emoticon\")\n",
        "    else:\n",
        "        print(wort, \"ist kein Emoticon\")"
      ],
      "execution_count": null,
      "outputs": [
        {
          "output_type": "stream",
          "text": [
            "Test ist kein Emoticon\n",
            ":) ist ein Emoticon\n",
            "0123982 ist kein Emoticon\n",
            "()!*@$^ ist kein Emoticon\n",
            ":-D ist ein Emoticon\n",
            "ich schwöre ich bin wirklich ein Smiley ist kein Emoticon\n",
            ":c ist ein Emoticon\n",
            "XDDDDD ist ein Emoticon\n"
          ],
          "name": "stdout"
        }
      ]
    },
    {
      "cell_type": "markdown",
      "metadata": {
        "id": "7A-5F-WKJd2S"
      },
      "source": [
        "### Suche\n",
        "\n",
        "Die Suchmethoden können dazu benutzt werden, *alle* Vorkommnisse eines Regex-Musters in einem Eingabe-String zu finden. Dafür gibt es zwei Methoden:\n",
        "\n",
        "```python\n",
        "re.findall(pattern, string, flags=0)\n",
        "\n",
        "re.finditer(pattern, string, flags=0)\n",
        "```\n",
        "\n",
        "Diese Methoden nehmen, genau so wie die Match-Methoden, ein `pattern` und einen `string` und optional `flags`. In ihrer Funktion gleichen sie sich: Beide geben alle sich nicht überlappenden Vorkommnisse des gegebenen Musters im Eingabe-String zurück. Sie unterscheiden sich aber durch die Art, wie die Vorkommnisse zurückgegeben werden:\n",
        "- `findall` gibt alle Vorkommnisse als Liste von *Strings* zurück\n",
        "- `finditer` liefert einen Iterator, der alle Vorkommnisse als *Match-Objekte* liefert\n",
        "\n",
        "In der Praxis bedeutet das, dass `findall` die gematchten Strings direkt als Liste und ohne weiteren Kontext liefert. Falls Kontext (wie z. B. die Position des Matches) benötigt wird, muss `finditer` benutzt werden.\n",
        "\n",
        "#### Beispiel\n",
        "Wir wollen alle Wörter finden, die nur aus den Buchstaben A-Z und a-z bestehen:"
      ]
    },
    {
      "cell_type": "code",
      "metadata": {
        "id": "uV8W0gQeJd2S",
        "outputId": "35d1475e-6e7f-4d19-d97e-28089b15c774"
      },
      "source": [
        "eingabestring = \"Paula hat 10 Hunde und 1/2 Katze.\"\n",
        "\n",
        "regex = r\"[A-Za-z]+\"\n",
        "\n",
        "print(\"Liste von Strings mit findall():\")\n",
        "\n",
        "ergebnis_findall = re.findall(regex, eingabestring)\n",
        "print(ergebnis_findall)\n",
        "\n",
        "for match in ergebnis_findall:\n",
        "    print(\"  \", match)\n",
        "\n",
        "print(\"\\nIterator über Match Objects mit finditer():\")\n",
        "\n",
        "ergebnis_finditer = re.finditer(regex, eingabestring)\n",
        "print(ergebnis_finditer)\n",
        "\n",
        "for match in ergebnis_finditer:\n",
        "    print(\"  \", match)"
      ],
      "execution_count": null,
      "outputs": [
        {
          "output_type": "stream",
          "text": [
            "Liste von Strings mit findall():\n",
            "['Paula', 'hat', 'Hunde', 'und', 'Katze']\n",
            "   Paula\n",
            "   hat\n",
            "   Hunde\n",
            "   und\n",
            "   Katze\n",
            "\n",
            "Iterator über Match Objects mit finditer():\n",
            "<callable_iterator object at 0x0000020FC7E89748>\n",
            "   <_sre.SRE_Match object; span=(0, 5), match='Paula'>\n",
            "   <_sre.SRE_Match object; span=(6, 9), match='hat'>\n",
            "   <_sre.SRE_Match object; span=(13, 18), match='Hunde'>\n",
            "   <_sre.SRE_Match object; span=(19, 22), match='und'>\n",
            "   <_sre.SRE_Match object; span=(27, 32), match='Katze'>\n"
          ],
          "name": "stdout"
        }
      ]
    },
    {
      "cell_type": "markdown",
      "metadata": {
        "id": "etOHJ-RRJd2S"
      },
      "source": [
        "Über die Ergebnisse von beiden Methoden kann ohne Probleme mit einer for-Schleife iteriert werden. Dadurch, dass `finditer()` einen Iterator und keine Liste zurückgibt, muss das Ergebnis erst in eine Liste umgewandelt werden, falls man z. B. direkt auf ein bestimmtes Match Object zugreifen oder die Anzahl der Matches wissen möchte."
      ]
    },
    {
      "cell_type": "code",
      "metadata": {
        "id": "-QdqyyawJd2T",
        "outputId": "6731a935-a7bc-4663-f4c2-fb073086c638"
      },
      "source": [
        "ergebnis_finditer = re.finditer(regex, eingabestring)\n",
        "\n",
        "# Umwandlung in eine Liste\n",
        "matchliste = list(ergebnis_finditer)\n",
        "\n",
        "# Beispiele für Operationen, die nur auf Listen und nicht auf Iteratoren angewendet werden können\n",
        "\n",
        "print(\"Länge:\", len(matchliste)) # länge ausgeben = Anzahl der gefundenen Matches\n",
        "\n",
        "print(\"Drittes Match:\", matchliste[2]) # bestimmtes Match ausgeben\n",
        "\n",
        "print(\"Letztes Match:\", matchliste[-1]) # letztes Match ausgeben\n"
      ],
      "execution_count": null,
      "outputs": [
        {
          "output_type": "stream",
          "text": [
            "Länge: 5\n",
            "Drittes Match: <re.Match object; span=(13, 18), match='Hunde'>\n",
            "Letztes Match: <re.Match object; span=(27, 32), match='Katze'>\n"
          ],
          "name": "stdout"
        }
      ]
    },
    {
      "cell_type": "markdown",
      "metadata": {
        "id": "BmSVokdMJd2U"
      },
      "source": [
        "### Ersetzen"
      ]
    },
    {
      "cell_type": "markdown",
      "metadata": {
        "id": "7fbWPPopJd2U"
      },
      "source": [
        "Analog zur einfacheren `string.replace()`-Methode kann auch mithilfe von regulären Ausdrücken Teile von Strings ersetzt werden. Dabei können flexible Regex-Muster anstatt von einfachen Zeichenketten ersetzt werden, was für deutlich mehr Flexibilität sorgt. Die dafür relevante Methode ist:\n",
        "```python\n",
        "re.sub(pattern, repl, string, count=0, flags=0)\n",
        "```\n",
        "Die `sub`-Methode nimmt im Gegensatz zu den vorher behandelten Methoden mehr Argumente:\n",
        "- `pattern` ist das zu ersetzende Muster\n",
        "- `repl` ist ein Ersetzungs-String, der für jedes Vorkommniss von `pattern` eingesetzt wird\n",
        "- `string` ist der Eingabe-String\n",
        "- `count`: Die maximale Anzahl an Vorkommnissen, die ersetzt werden soll (optional, 0=alle Vorkommnisse)\n",
        "- `flags` (optional)\n",
        "\n",
        "Die Methode gibt immer den Eingabe-String zurück, auch dann, wenn keine Ersetzung möglich war.\n",
        "\n",
        "#### Beispiel\n",
        "Wir wollen E-Mail-Adressen anonymisieren, indem wir jede Adresse durch `<E-Mail>` ersetzen:"
      ]
    },
    {
      "cell_type": "code",
      "metadata": {
        "id": "F1F5WEEwJd2U",
        "outputId": "a310e66b-e46b-4836-e588-409bf6e7a0b2"
      },
      "source": [
        "eingabetext = \"\"\"Dies ist ein längerer Text, der E-Mail-Adressen wie z. B. max.mustermann@test.de enthält.\n",
        "Um keinen Blindtext selbst schreiben zu müssen, kommt jetzt ein Auszug aus Goethes Werther (mit E-Mail-Adressen vermengt):\n",
        "Eine wunderbare Heiterkeit hat meine ganze Seele eingenommen, gleich den süßen Frühlingsmorgen, die ich mit ganzem Herzen genieße.\n",
        "Ich bin allein und freue.mich.meines@Lebens.in dieser Gegend, die für solche Seelen geschaffen ist wie die meine.\n",
        "Ich bin so glücklich, mein Bester, so ganz in dem Gefühle von ruhigem Dasein versunken, daß meine Kunst darunter leidet.\n",
        "Ich könnte jetzt nicht zeichnen, nicht einen Strich, und ich, derjunge@werther.com, bin nie ein größerer Maler gewesen als in diesen Augenblicken.\n",
        "Wenn das liebe Tal um mich dampft, und die hohe Sonne an der Oberfläche der undurchdringlichen Finsternis meines Waldes ruht,\n",
        "und nur einzelne Strahlen sich in das innere Heiligtum stehlen, ich dann im hohen Grase am fallenden Bache liege,\n",
        "und näher an der Erde tausend mannigfaltige Gräschen mir merkwürdig werden; wenn ich das Wimmeln der kleinen Welt zwischen Halmen,\n",
        "die unzähligen, unergründlichen Gestalten der Würmchen, der Mückchen näher an meinem Herzen fühle, und fühle die Gegenwart des Allmächtigen,\n",
        "der uns nach seinem Bilde schuf, das Wehen des Alliebenden, der uns in ewiger Wonne schwebend trägt und erhält; mein Freund, wilhelmhasi35@web.de!\"\"\"\n",
        "\n",
        "regex = r\"[a-zA-Z0-9_.+-]+@[a-zA-Z0-9-]+\\.[a-zA-Z0-9-.]+\"\n",
        "\n",
        "ausgabetext = re.sub(regex, \"<E-Mail>\", eingabetext)\n",
        "print(ausgabetext)"
      ],
      "execution_count": null,
      "outputs": [
        {
          "output_type": "stream",
          "text": [
            "Dies ist ein längerer Text, der E-Mail-Adressen wie z. B. <E-Mail> enthält.\n",
            "Um keinen Blindtext selbst schreiben zu müssen, kommt jetzt ein Auszug aus Goethes Werther (mit E-Mail-Adressen vermengt):\n",
            "Eine wunderbare Heiterkeit hat meine ganze Seele eingenommen, gleich den süßen Frühlingsmorgen, die ich mit ganzem Herzen genieße.\n",
            "Ich bin allein und <E-Mail> dieser Gegend, die für solche Seelen geschaffen ist wie die meine.\n",
            "Ich bin so glücklich, mein Bester, so ganz in dem Gefühle von ruhigem Dasein versunken, daß meine Kunst darunter leidet.\n",
            "Ich könnte jetzt nicht zeichnen, nicht einen Strich, und ich, <E-Mail>, bin nie ein größerer Maler gewesen als in diesen Augenblicken.\n",
            "Wenn das liebe Tal um mich dampft, und die hohe Sonne an der Oberfläche der undurchdringlichen Finsternis meines Waldes ruht,\n",
            "und nur einzelne Strahlen sich in das innere Heiligtum stehlen, ich dann im hohen Grase am fallenden Bache liege,\n",
            "und näher an der Erde tausend mannigfaltige Gräschen mir merkwürdig werden; wenn ich das Wimmeln der kleinen Welt zwischen Halmen,\n",
            "die unzähligen, unergründlichen Gestalten der Würmchen, der Mückchen näher an meinem Herzen fühle, und fühle die Gegenwart des Allmächtigen,\n",
            "der uns nach seinem Bilde schuf, das Wehen des Alliebenden, der uns in ewiger Wonne schwebend trägt und erhält; mein Freund, <E-Mail>!\n"
          ],
          "name": "stdout"
        }
      ]
    },
    {
      "cell_type": "markdown",
      "metadata": {
        "id": "XF6FIzPDJd2V"
      },
      "source": [
        "Die `sub`-Methode kann auch dazu benutzt werden, Teile von Strings zu löschen. Dazu muss das Match einfach durch den leeren String `\"\"` ersetzt werden.\n",
        "\n",
        "Desweiteren ist es möglich, im Ersetzungs-String *Backreferences* zu benutzen. Das heißt, es kann im Ersetzungs-String auf den vorher gematchten String verwiesen werden, der ersetzt werden soll. Das ist z. B. dann nützlich, wenn bei einer Ersetzungsoperation Material erweitert und nicht komplett ersetzt werden soll. Der komplette gematchte Match-String kann über die Sequenz `\\g<0>` referenziert werden.\n",
        "\n",
        "#### Beispiel\n",
        "Wir wollen alle Vokale im Eingabetext hervorheben, indem wir sie mit geschweiften Klammern umgeben:"
      ]
    },
    {
      "cell_type": "code",
      "metadata": {
        "id": "ug-3Xl6EKpjB"
      },
      "source": [
        ""
      ],
      "execution_count": null,
      "outputs": []
    },
    {
      "cell_type": "code",
      "metadata": {
        "id": "YOS2A9QjJd2V",
        "outputId": "54576f94-9a18-4828-f589-becbf9939dcf"
      },
      "source": [
        "eingabetext = \"Mettigel (auch Hackepeterigel oder Hackepeterschwein) sind ein klassischer Bestandteil von kalten Platten bzw. kalten Buffets. Sie bestehen aus Mett mit entsprechender Garnierung.\"\n",
        "\n",
        "regex = r\"[aeiouäöü]\"\n",
        "\n",
        "ausgabetext = re.sub(regex, \"{\\g<0>}\", eingabetext)\n",
        "print(ausgabetext)"
      ],
      "execution_count": null,
      "outputs": [
        {
          "output_type": "stream",
          "text": [
            "M{e}tt{i}g{e}l ({a}{u}ch H{a}ck{e}p{e}t{e}r{i}g{e}l {o}d{e}r H{a}ck{e}p{e}t{e}rschw{e}{i}n) s{i}nd {e}{i}n kl{a}ss{i}sch{e}r B{e}st{a}ndt{e}{i}l v{o}n k{a}lt{e}n Pl{a}tt{e}n bzw. k{a}lt{e}n B{u}ff{e}ts. S{i}{e} b{e}st{e}h{e}n {a}{u}s M{e}tt m{i}t {e}ntspr{e}ch{e}nd{e}r G{a}rn{i}{e}r{u}ng.\n"
          ],
          "name": "stdout"
        }
      ]
    },
    {
      "cell_type": "markdown",
      "metadata": {
        "id": "6hjuXG2cJd2X"
      },
      "source": [
        "### Splitten\n",
        "\n",
        "Es ist auch möglich, analog zur `string.split()`-Methode mithilfe von regulären Ausdrücken Strings in Teil-Strings zu zerlegen. Die dafür zuständige Methode ist:\n",
        "\n",
        "```python\n",
        "re.split(pattern, string, maxsplit=0, flags=0)\n",
        "```\n",
        "Die `split`-Methode nimmt folgende Argumente:\n",
        "- `pattern` ist das Muster, das als Separator für die Teilstrings dienen soll\n",
        "- `string` ist der Eingabe-String\n",
        "- `count`: Die maximale Anzahl an Vorkommnissen, die ersetzt werden soll (optional, 0 = alle Vorkommnisse)\n",
        "- `flags` (optional)\n",
        "\n",
        "Die Methode gibt immer eine Liste an Teil-Strings zurück. Falls der Eingabe-String nicht aufgespaltet wurde, wird eine Liste, die nur aus dem Eingabe-String besteht, zurückgegeben.\n",
        "\n",
        "#### Beispiel\n",
        "Der Eingabetext soll in einzelne Zeilen aufgespaltet werden. Dazu wird er an den unregelmäßigen Zeilenumbrüchen getrennt:"
      ]
    },
    {
      "cell_type": "code",
      "metadata": {
        "id": "rqRUuXE0Jd2Z",
        "outputId": "bfc4348d-877d-42d2-bae1-93e6aab94bbd"
      },
      "source": [
        "eingabetext = \"\"\"Das hier ist\n",
        "\n",
        "ein toller Text\n",
        "mit sehr\n",
        "\n",
        "\n",
        "inkonsistenten\n",
        "\n",
        "\n",
        "\n",
        "Zeilenumbrüchen\"\"\"\n",
        "\n",
        "regex = r\"\\n+\"\n",
        "\n",
        "zeilen = re.split(regex, eingabetext)\n",
        "print(zeilen)"
      ],
      "execution_count": null,
      "outputs": [
        {
          "output_type": "stream",
          "text": [
            "['Das hier ist', 'ein toller Text', 'mit sehr', 'inkonsistenten', 'Zeilenumbrüchen']\n"
          ],
          "name": "stdout"
        }
      ]
    },
    {
      "cell_type": "markdown",
      "metadata": {
        "id": "UbkbPTDBJd2Z"
      },
      "source": [
        "### Kompilieren von regulären Ausdrücken\n",
        "\n",
        "Bisher haben wir reguläre Ausdrücke als Strings angegeben und diese Strings direkt in die Methoden des `re`-Moduls eingesetzt. Daneben existiert noch die Möglichkeit, reguläre Ausdrücke zu kompilieren und damit in *Regular Expression Objects* umzuwandeln. Diese Regex-Objekte stellen die gleichen Methoden wie das `re`-Modul bereit, aber mit dem Vorteil, keinen regulären Ausdruck als String angeben zu müssen. Vor allem, wenn ein regulärer Ausdruck oft wiederverwendet wird, ist das oft komfortabler."
      ]
    },
    {
      "cell_type": "code",
      "metadata": {
        "id": "AUmFbJ4_Jd2a",
        "outputId": "3e723ed5-1f94-4dc8-a138-0b5e9b040112"
      },
      "source": [
        "eingabetext = \"Das ist ein Beispieltext. Wusset ihr, dass Beispieltexte meistens auch Satzzeichen enthalten? Ja, ist wirklich so! Satzzeichen sind vielfältig; das Semikolon ist auch eins. Aber ich schweife ab...\"\n",
        "\n",
        "satzzeichen = re.compile(r\"\\.\\.\\.|[.,:;-?!]\")\n",
        "\n",
        "for match in satzzeichen.finditer(eingabetext):\n",
        "    print(match[0])\n",
        "\n",
        "teilsätze = satzzeichen.split(eingabetext)\n",
        "print(teilsätze)\n",
        "\n",
        "print(satzzeichen.sub('SATZZEICHEN', eingabetext))"
      ],
      "execution_count": null,
      "outputs": [
        {
          "output_type": "stream",
          "text": [
            ".\n",
            ",\n",
            "?\n",
            ",\n",
            "!\n",
            ";\n",
            ".\n",
            "...\n",
            "['Das ist ein Beispieltext', ' Wusset ihr', ' dass Beispieltexte meistens auch Satzzeichen enthalten', ' Ja', ' ist wirklich so', ' Satzzeichen sind vielfältig', ' das Semikolon ist auch eins', ' Aber ich schweife ab', '']\n",
            "Das ist ein BeispieltextSATZZEICHEN Wusset ihrSATZZEICHEN dass Beispieltexte meistens auch Satzzeichen enthaltenSATZZEICHEN JaSATZZEICHEN ist wirklich soSATZZEICHEN Satzzeichen sind vielfältigSATZZEICHEN das Semikolon ist auch einsSATZZEICHEN Aber ich schweife abSATZZEICHEN\n"
          ],
          "name": "stdout"
        }
      ]
    },
    {
      "cell_type": "markdown",
      "metadata": {
        "id": "vYzmlRh0Jd2a"
      },
      "source": [
        "## Übung\n",
        "\n",
        "### Befehle aus Konsolenlog extrahieren\n",
        "\n",
        "In der Datei `console.log` befindet sich ein Konsolenlog von einem Linux-Terminal. Dieses wird zeilenweise eingelesen. Überprüfe nun für jede Zeile, ob diese eine Eingabeaufforderung und einen Befehl oder eine Programmausgabe enhält. Falls es sich um eine Befehlszeile handelt, extrahiere aus ihr den eigentlich aufgerufenen Befehl mit seinen Argumenten und gib ihn aus."
      ]
    },
    {
      "cell_type": "code",
      "metadata": {
        "collapsed": true,
        "id": "ZoPuSEdfJd2a"
      },
      "source": [
        "logfile = open(\"console.log\", mode='r', encoding='utf-8-sig')\n",
        "\n",
        "lines = logfile.readlines()\n",
        "\n",
        "regex = r''"
      ],
      "execution_count": null,
      "outputs": []
    }
  ]
}