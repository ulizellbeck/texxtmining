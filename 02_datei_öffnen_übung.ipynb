{
  "nbformat": 4,
  "nbformat_minor": 0,
  "metadata": {
    "colab": {
      "name": "02_datei_öffnen_übung.ipynb",
      "provenance": []
    },
    "kernelspec": {
      "name": "python3",
      "display_name": "Python 3"
    },
    "language_info": {
      "name": "python"
    }
  },
  "cells": [
    {
      "cell_type": "markdown",
      "metadata": {
        "id": "Yaw6uLjlfzZV"
      },
      "source": [
        "* Öffnen der Datei \"DatenAnonymisiert_ansi_part.csv\" mit der Funktion \"[open](https://docs.python.org/3/library/functions.html#open)\" und bereitstellen als Variable \"daten\"\n",
        "* Auslesen einer Zeile mit der Funktion \"[readline](https://www.w3schools.com/python/ref_file_readline.asp)\"\n",
        "* Erstellen einer variable \"text\" die den gesamten Text der Datei mit der Funktion \"[read](https://www.w3schools.com/python/ref_file_read.asp)\" liest.\n",
        "* Zähle die Anzahl der Wörter mit der Funktion \"[len](https://www.programiz.com/python-programming/methods/built-in/len)\"\n",
        "* Erstelle eine Variable \"text2\" mit der Funktion \"[splitlines](https://www.w3schools.com/python/ref_string_splitlines.asp)\", welche die einzelnen Zeilen der Datei als Liste einliest.\n",
        "* Zähle die Anzahl der Zeilen."
      ]
    },
    {
      "cell_type": "code",
      "metadata": {
        "id": "rk5ZVbS-KUoD",
        "colab": {
          "base_uri": "https://localhost:8080/",
          "height": 133
        },
        "outputId": "7e02660c-47d3-40c0-9cab-ad083c8a16b3"
      },
      "source": [
        "# Öffnen des Files\n",
        "daten = "
      ],
      "execution_count": null,
      "outputs": [
        {
          "output_type": "error",
          "ename": "SyntaxError",
          "evalue": "ignored",
          "traceback": [
            "\u001b[0;36m  File \u001b[0;32m\"<ipython-input-4-545a7a6e3089>\"\u001b[0;36m, line \u001b[0;32m2\u001b[0m\n\u001b[0;31m    daten =\u001b[0m\n\u001b[0m            ^\u001b[0m\n\u001b[0;31mSyntaxError\u001b[0m\u001b[0;31m:\u001b[0m invalid syntax\n"
          ]
        }
      ]
    },
    {
      "cell_type": "code",
      "metadata": {
        "id": "NEguIYTCLOZ_"
      },
      "source": [
        "# Auslesen einer Zeile\n"
      ],
      "execution_count": null,
      "outputs": []
    },
    {
      "cell_type": "code",
      "metadata": {
        "colab": {
          "base_uri": "https://localhost:8080/",
          "height": 133
        },
        "id": "6cZxKAhCtGpn",
        "outputId": "070ac982-976e-47f6-9317-11d902b3d9bf"
      },
      "source": [
        "# Einlesen des kompletten Texts\n",
        "text = \n",
        "\n",
        "# Länge des Objekts ausgeben\n"
      ],
      "execution_count": null,
      "outputs": [
        {
          "output_type": "error",
          "ename": "SyntaxError",
          "evalue": "ignored",
          "traceback": [
            "\u001b[0;36m  File \u001b[0;32m\"<ipython-input-2-90457fb4131a>\"\u001b[0;36m, line \u001b[0;32m2\u001b[0m\n\u001b[0;31m    text =\u001b[0m\n\u001b[0m           ^\u001b[0m\n\u001b[0;31mSyntaxError\u001b[0m\u001b[0;31m:\u001b[0m invalid syntax\n"
          ]
        }
      ]
    },
    {
      "cell_type": "code",
      "metadata": {
        "id": "orzPNhQotWnC"
      },
      "source": [
        "# Einlesen der Zeilen\n",
        "\n",
        "# Länge des Objekts ausgeben\n"
      ],
      "execution_count": null,
      "outputs": []
    }
  ]
}